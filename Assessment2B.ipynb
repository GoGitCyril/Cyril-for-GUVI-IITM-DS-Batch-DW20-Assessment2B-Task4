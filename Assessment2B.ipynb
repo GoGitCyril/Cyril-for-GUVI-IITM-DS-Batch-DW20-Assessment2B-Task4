{
 "cells": [
  {
   "cell_type": "markdown",
   "metadata": {},
   "source": [
    "###### Assessment"
   ]
  },
  {
   "cell_type": "markdown",
   "metadata": {},
   "source": [
    "###### I am going to provide two .csv files , you are supposed to work on them and have to provide solutions to the following problems"
   ]
  },
  {
   "cell_type": "markdown",
   "metadata": {},
   "source": [
    "###### import necessary libraries"
   ]
  },
  {
   "cell_type": "code",
   "execution_count": null,
   "metadata": {},
   "outputs": [],
   "source": [
    "import pandas as pd \n",
    "from matplotlib import pyplot as plt"
   ]
  },
  {
   "cell_type": "markdown",
   "metadata": {},
   "source": [
    "###### merge those two csv files (after getting as dataframes, get them as a single dataframe)"
   ]
  },
  {
   "cell_type": "code",
   "execution_count": null,
   "metadata": {},
   "outputs": [],
   "source": [
    "df1 = pd.read_csv(\"college_1.csv\")\n",
    "print(df1)\n",
    "\n",
    "df2 = pd.read_csv(\"college_2.csv\")\n",
    "print(df2)\n",
    "\n",
    "\n",
    "#merge those two csv files (after getting as dataframes, get them as a single dataframe)\n",
    "\n",
    "df3 = pd.concat(\n",
    "    map(pd.read_csv, ['college_1.csv', 'college_2.csv']), ignore_index=True)\n",
    "\n",
    "df3 = df3.fillna(value=0)\n",
    "\n",
    "print(df3)\n",
    "\n",
    "\n",
    "df3.to_csv('college_3.csv')"
   ]
  },
  {
   "cell_type": "markdown",
   "metadata": {},
   "source": [
    "###### Take each csv file , split that csv file into multiple categories (example csv files are added in the repo) \n"
   ]
  },
  {
   "cell_type": "markdown",
   "metadata": {},
   "source": [
    "###### consider if the codekata score exceeds 15000 points(present week) then make a csv on those observations as Exceeded expectations.csv\n"
   ]
  },
  {
   "cell_type": "markdown",
   "metadata": {},
   "source": [
    "###### if  10000<codekata score<15000   (Reached_expectations.csv)\n",
    "\n"
   ]
  },
  {
   "cell_type": "markdown",
   "metadata": {},
   "source": [
    "###### if  7000<codekata score<10000   (Needs_Improvement.csv)\n"
   ]
  },
  {
   "cell_type": "markdown",
   "metadata": {},
   "source": [
    "###### if  codekate score < 7000        (Unsatisfactory.csv)"
   ]
  },
  {
   "cell_type": "code",
   "execution_count": null,
   "metadata": {},
   "outputs": [],
   "source": [
    "#consider if the codekata score exceeds 15000 points(present week) then make a csv on those observations as Exceeded expectations.csv\n",
    "\n",
    "df4 = df3[(df3['CodeKata Score'] > 15000)]\n",
    "\n",
    "print(df4)\n",
    "\n",
    "df4.to_csv('Exceeded expectations.csv')\n",
    "\n",
    "#if 10000<codekata score<15000 (Reached_expectations.csv)\n",
    "\n",
    "df5 = df3[(df3['CodeKata Score'] .between(10000,15000))]\n",
    "\n",
    "print(df5)\n",
    "\n",
    "df5.to_csv('Reached_expectations.csv')"
   ]
  },
  {
   "cell_type": "code",
   "execution_count": null,
   "metadata": {},
   "outputs": [],
   "source": [
    "#if 7000<codekata score<10000 (Needs_Improvement.csv)\n",
    "\n",
    "df6 = df3[(df3['CodeKata Score'] .between(7000,10000))]\n",
    "\n",
    "print(df6)\n",
    "\n",
    "df6.to_csv('Needs_Improvement.csv')\n",
    "\n",
    "#if codekate score < 7000 (Unsatisfactory.csv)\n",
    "\n",
    "df7 = df3[(df3['CodeKata Score'] < 7000)]\n",
    "\n",
    "print(df7)\n",
    "\n",
    "df7.to_csv('Unsatisfactory.csv')"
   ]
  },
  {
   "cell_type": "markdown",
   "metadata": {},
   "source": [
    "###### Average of previous week geekions vs this week geekions (i.e Previous Geekions vs CodeKata Score)"
   ]
  },
  {
   "cell_type": "code",
   "execution_count": null,
   "metadata": {},
   "outputs": [],
   "source": [
    "#Average of previous week geekions vs this week geekions (i.e Previous Geekions vs CodeKata Score)\n",
    "\n",
    "df8 = df3['Previous Geekions'].mean()\n",
    "\n",
    "print(\"Average of previous week geekions: \", df8)\n",
    "\n",
    "df9 = df3['CodeKata Score'].mean()\n",
    "\n",
    "print(\"                VS                   \")\n",
    "\n",
    "print(\"Average of this week geekions: \", df9)"
   ]
  },
  {
   "cell_type": "markdown",
   "metadata": {},
   "source": [
    "###### No of students participated "
   ]
  },
  {
   "cell_type": "code",
   "execution_count": null,
   "metadata": {},
   "outputs": [],
   "source": [
    "#No of students participated\n",
    "\n",
    "df10 = len(df3.index)\n",
    "\n",
    "print(\"No of students participated: \", df10)"
   ]
  },
  {
   "cell_type": "markdown",
   "metadata": {},
   "source": [
    "###### #Average completion of python course or my_sql or python english or computational thinking"
   ]
  },
  {
   "cell_type": "code",
   "execution_count": null,
   "metadata": {},
   "outputs": [],
   "source": [
    "#Question not understood. How do we identify course completion?"
   ]
  },
  {
   "cell_type": "markdown",
   "metadata": {},
   "source": [
    "###### rising star of the week (top 3 candidate who performed well in that particular week)"
   ]
  },
  {
   "cell_type": "code",
   "execution_count": null,
   "metadata": {},
   "outputs": [],
   "source": [
    "#rising star of the week (top 3 candidate who performed well in that particular week)\n",
    "\n",
    "df12 = df3.nlargest(3,'Rising')\n",
    "\n",
    "print(\"Top 3 rising star of the week: \")\n",
    "print(df12)"
   ]
  },
  {
   "cell_type": "markdown",
   "metadata": {},
   "source": [
    "###### Shining stars of the week (top 3 candidates who has highest geekions)"
   ]
  },
  {
   "cell_type": "code",
   "execution_count": null,
   "metadata": {},
   "outputs": [],
   "source": [
    "#Shining stars of the week (top 3 candidates who has highest geekions)\n",
    "\n",
    "df13 = df3.nlargest(3,'CodeKata Score')\n",
    "\n",
    "print(\"Shining stars of the week (top 3 candidates who has highest geekions): \")\n",
    "print(df13)"
   ]
  },
  {
   "cell_type": "markdown",
   "metadata": {},
   "source": [
    "###### Department wise codekata performence (pie chart)"
   ]
  },
  {
   "cell_type": "code",
   "execution_count": null,
   "metadata": {},
   "outputs": [],
   "source": [
    "#Department wise codekata performence (pie chart)\n",
    "\n",
    "fig = plt.figure(figsize=(10,7))\n",
    "df3.groupby(['Department']).sum().plot(kind='pie', y='CodeKata Score')\n",
    "plt.show()"
   ]
  },
  {
   "cell_type": "markdown",
   "metadata": {},
   "source": [
    "###### Department wise toppers (horizantal bar graph or any visual representations of your choice)"
   ]
  },
  {
   "cell_type": "code",
   "execution_count": null,
   "metadata": {},
   "outputs": [],
   "source": [
    "#Department wise toppers (horizantal bar graph or any visual representations of your choice)\n",
    "\n",
    "df14 = df3.sort_values(by=['CodeKata Score'], ascending=False)"
   ]
  },
  {
   "cell_type": "code",
   "execution_count": null,
   "metadata": {},
   "outputs": [],
   "source": [
    "df15 = df14.groupby('Department').head(1).reset_index(drop=True)"
   ]
  },
  {
   "cell_type": "code",
   "execution_count": null,
   "metadata": {},
   "outputs": [],
   "source": [
    "df15.plot(kind='barh', x='Name', y='CodeKata Score')"
   ]
  },
  {
   "cell_type": "code",
   "execution_count": null,
   "metadata": {},
   "outputs": [],
   "source": [
    "plt.show()"
   ]
  }
 ],
 "metadata": {
  "kernelspec": {
   "display_name": "Python 3 (ipykernel)",
   "language": "python",
   "name": "python3"
  },
  "language_info": {
   "codemirror_mode": {
    "name": "ipython",
    "version": 3
   },
   "file_extension": ".py",
   "mimetype": "text/x-python",
   "name": "python",
   "nbconvert_exporter": "python",
   "pygments_lexer": "ipython3",
   "version": "3.10.5"
  }
 },
 "nbformat": 4,
 "nbformat_minor": 2
}
